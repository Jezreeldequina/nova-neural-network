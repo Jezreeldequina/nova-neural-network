{
  "nbformat": 4,
  "nbformat_minor": 0,
  "metadata": {
    "colab": {
      "provenance": [],
      "authorship_tag": "ABX9TyNh1s/SUDqVIvezeOia+gE0",
      "include_colab_link": true
    },
    "kernelspec": {
      "name": "python3",
      "display_name": "Python 3"
    },
    "language_info": {
      "name": "python"
    }
  },
  "cells": [
    {
      "cell_type": "markdown",
      "metadata": {
        "id": "view-in-github",
        "colab_type": "text"
      },
      "source": [
        "<a href=\"https://colab.research.google.com/github/Jezreeldequina/nova-neural-network/blob/main/nnncollab.ipynb\" target=\"_parent\"><img src=\"https://colab.research.google.com/assets/colab-badge.svg\" alt=\"Open In Colab\"/></a>"
      ]
    },
    {
      "cell_type": "code",
      "execution_count": 8,
      "metadata": {
        "colab": {
          "base_uri": "https://localhost:8080/"
        },
        "id": "j5CyT1crtxcM",
        "outputId": "3b7ffe68-921f-4587-e4f6-dcc20a488bec"
      },
      "outputs": [
        {
          "output_type": "stream",
          "name": "stdout",
          "text": [
            "fatal: destination path 'nova-neural-network' already exists and is not an empty directory.\n",
            "/content/nova-neural-network\n"
          ]
        }
      ],
      "source": [
        "!git clone https://github.com/Jezreeldequina/nova-neural-network\n",
        "%cd nova-neural-network/\n"
      ]
    }
  ]
}